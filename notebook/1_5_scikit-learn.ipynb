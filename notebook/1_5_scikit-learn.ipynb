{
 "cells": [
  {
   "cell_type": "markdown",
   "metadata": {},
   "source": [
    "## ライブラリのインポート"
   ]
  },
  {
   "cell_type": "code",
   "execution_count": null,
   "metadata": {
    "id": "YHIScAeEHDdr"
   },
   "outputs": [],
   "source": [
    "# # Colabでバージョンを変更するとき、コメントアウトして実行してください\n",
    "# !pip install pandas==2.0.3\n",
    "# !pip install numpy==1.25.2\n",
    "# !pip install matplotlib==3.7.1\n",
    "# !pip install japanize-matplotlib==1.1.3\n",
    "# !pip install scikit-learn==1.2.2"
   ]
  },
  {
   "cell_type": "code",
   "execution_count": null,
   "metadata": {
    "executionInfo": {
     "elapsed": 1772,
     "status": "ok",
     "timestamp": 1720936462702,
     "user": {
      "displayName": "毛利拓也",
      "userId": "17854120745961292401"
     },
     "user_tz": -540
    },
    "id": "wJqk0jgpJh1a"
   },
   "outputs": [],
   "source": [
    "%matplotlib inline\n",
    "import matplotlib.pyplot as plt\n",
    "import pandas as pd\n",
    "import numpy as np\n",
    "import japanize_matplotlib\n",
    "from sklearn.linear_model import LinearRegression"
   ]
  },
  {
   "cell_type": "markdown",
   "metadata": {},
   "source": [
    "## 特徴量と目的変数の作成"
   ]
  },
  {
   "cell_type": "code",
   "execution_count": null,
   "metadata": {
    "colab": {
     "base_uri": "https://localhost:8080/"
    },
    "executionInfo": {
     "elapsed": 371,
     "status": "ok",
     "timestamp": 1720936497854,
     "user": {
      "displayName": "毛利拓也",
      "userId": "17854120745961292401"
     },
     "user_tz": -540
    },
    "id": "8rq6Jm51h4B2",
    "outputId": "1f744530-f68e-486e-b483-fff7297759cb"
   },
   "outputs": [],
   "source": [
    "# 特徴量Xは2次元配列\n",
    "X = [[22], [24], [25], [28], [27], [26], [31], [29], [32], [30]]\n",
    "# 正解値yは1次元配列\n",
    "y = [276, 290, 305, 365, 350, 345, 376, 385, 419, 390]\n",
    "print(X)\n",
    "print(y)"
   ]
  },
  {
   "cell_type": "code",
   "execution_count": null,
   "metadata": {
    "executionInfo": {
     "elapsed": 4,
     "status": "ok",
     "timestamp": 1720936395131,
     "user": {
      "displayName": "毛利拓也",
      "userId": "17854120745961292401"
     },
     "user_tz": -540
    },
    "id": "cmC4NuJ5GNfo",
    "scrolled": true
   },
   "outputs": [],
   "source": [
    "# # listをpandasに変換\n",
    "# X = pd.DataFrame(X)\n",
    "# y = pd.Series(y)\n",
    "# display(X)\n",
    "# display(y)"
   ]
  },
  {
   "cell_type": "code",
   "execution_count": null,
   "metadata": {
    "executionInfo": {
     "elapsed": 4,
     "status": "ok",
     "timestamp": 1720936396200,
     "user": {
      "displayName": "毛利拓也",
      "userId": "17854120745961292401"
     },
     "user_tz": -540
    },
    "id": "Act_N5czv45Z",
    "scrolled": true
   },
   "outputs": [],
   "source": [
    "# # listをNumPyに変換\n",
    "# X = np.array(X)\n",
    "# y = np.array(y)\n",
    "# print(X)\n",
    "# print(y)"
   ]
  },
  {
   "cell_type": "markdown",
   "metadata": {},
   "source": [
    "## モデル学習と予測"
   ]
  },
  {
   "cell_type": "code",
   "execution_count": null,
   "metadata": {
    "colab": {
     "base_uri": "https://localhost:8080/",
     "height": 74
    },
    "executionInfo": {
     "elapsed": 294,
     "status": "ok",
     "timestamp": 1720936522924,
     "user": {
      "displayName": "毛利拓也",
      "userId": "17854120745961292401"
     },
     "user_tz": -540
    },
    "id": "HcrqTy0pGLVT",
    "outputId": "73571ece-ced3-4b25-ce33-0c42a89603c3"
   },
   "outputs": [],
   "source": [
    "# 線形回帰モデルの学習\n",
    "model = LinearRegression()\n",
    "model.fit(X, y)"
   ]
  },
  {
   "cell_type": "code",
   "execution_count": null,
   "metadata": {
    "colab": {
     "base_uri": "https://localhost:8080/"
    },
    "executionInfo": {
     "elapsed": 291,
     "status": "ok",
     "timestamp": 1720936575174,
     "user": {
      "displayName": "毛利拓也",
      "userId": "17854120745961292401"
     },
     "user_tz": -540
    },
    "id": "sA6KxCLxhmJa",
    "outputId": "ff085eef-aba0-48c8-ab00-2450228a8259"
   },
   "outputs": [],
   "source": [
    "# 気温から売上を予測\n",
    "# 特徴量Xは2次元配列で入力する点に注意\n",
    "# 出力はNumPy\n",
    "model.predict([[25.5]])"
   ]
  },
  {
   "cell_type": "code",
   "execution_count": null,
   "metadata": {},
   "outputs": [],
   "source": [
    "# 学習データの予測値\n",
    "model.predict(X)"
   ]
  },
  {
   "cell_type": "code",
   "execution_count": null,
   "metadata": {
    "colab": {
     "base_uri": "https://localhost:8080/",
     "height": 386
    },
    "executionInfo": {
     "elapsed": 805,
     "status": "ok",
     "timestamp": 1720936714178,
     "user": {
      "displayName": "毛利拓也",
      "userId": "17854120745961292401"
     },
     "user_tz": -540
    },
    "id": "t-AwbKTrh_h0",
    "outputId": "ad16f6b1-2ec8-4d50-bb76-e5b4b550c9fc"
   },
   "outputs": [],
   "source": [
    "plt.figure(figsize=(8, 4)) #プロットのサイズ指定\n",
    "\n",
    "# モデルのプロット\n",
    "y_pred = model.predict(X)\n",
    "\n",
    "# 気温と売上の散布図と1次関数のプロット\n",
    "plt.scatter(X, y, color='blue', label='データ')\n",
    "plt.plot(X, y_pred, color='red', linestyle='-', label='予測値')\n",
    "plt.ylabel('売上')\n",
    "plt.xlabel('気温')\n",
    "plt.title('')\n",
    "plt.legend(loc='lower right')\n",
    "\n",
    "plt.show()"
   ]
  },
  {
   "cell_type": "code",
   "execution_count": null,
   "metadata": {
    "colab": {
     "base_uri": "https://localhost:8080/"
    },
    "executionInfo": {
     "elapsed": 5,
     "status": "ok",
     "timestamp": 1720936524076,
     "user": {
      "displayName": "毛利拓也",
      "userId": "17854120745961292401"
     },
     "user_tz": -540
    },
    "id": "pjAKX1JwJZUG",
    "outputId": "6e08e372-de1f-4c59-abd0-dbaf550bedcd"
   },
   "outputs": [],
   "source": [
    "print('傾き: %.2f' % model.coef_[0])\n",
    "print('切片: %.2f' % model.intercept_)"
   ]
  },
  {
   "cell_type": "code",
   "execution_count": null,
   "metadata": {
    "executionInfo": {
     "elapsed": 4,
     "status": "ok",
     "timestamp": 1720924100593,
     "user": {
      "displayName": "毛利拓也",
      "userId": "17854120745961292401"
     },
     "user_tz": -540
    },
    "id": "HagdurbIKAgL"
   },
   "outputs": [],
   "source": []
  },
  {
   "cell_type": "code",
   "execution_count": null,
   "metadata": {},
   "outputs": [],
   "source": []
  }
 ],
 "metadata": {
  "colab": {
   "provenance": []
  },
  "kernelspec": {
   "display_name": "Python 3 (ipykernel)",
   "language": "python",
   "name": "python3"
  },
  "language_info": {
   "codemirror_mode": {
    "name": "ipython",
    "version": 3
   },
   "file_extension": ".py",
   "mimetype": "text/x-python",
   "name": "python",
   "nbconvert_exporter": "python",
   "pygments_lexer": "ipython3",
   "version": "3.10.12"
  }
 },
 "nbformat": 4,
 "nbformat_minor": 4
}
