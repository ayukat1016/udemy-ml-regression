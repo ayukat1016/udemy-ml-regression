{
 "cells": [
  {
   "cell_type": "markdown",
   "metadata": {},
   "source": [
    "## 動作確認"
   ]
  },
  {
   "cell_type": "code",
   "execution_count": null,
   "metadata": {
    "id": "B7mr7HTXoUKp"
   },
   "outputs": [],
   "source": [
    "# # Colabでバージョンを変更するとき、コメントアウトして実行してください\n",
    "# !pip install numpy==1.25.2\n",
    "# !pip install matplotlib==3.7.1\n",
    "# !pip install scikit-learn==1.2.2"
   ]
  },
  {
   "cell_type": "code",
   "execution_count": null,
   "metadata": {
    "executionInfo": {
     "elapsed": 420,
     "status": "ok",
     "timestamp": 1718852270253,
     "user": {
      "displayName": "毛利拓也",
      "userId": "17854120745961292401"
     },
     "user_tz": -540
    },
    "id": "gshGsKNJijnd"
   },
   "outputs": [],
   "source": [
    "# ライブラリのインポート\n",
    "%matplotlib inline\n",
    "import numpy as np\n",
    "import matplotlib.pyplot as plt\n",
    "from sklearn.preprocessing import PolynomialFeatures"
   ]
  },
  {
   "cell_type": "code",
   "execution_count": null,
   "metadata": {
    "colab": {
     "base_uri": "https://localhost:8080/"
    },
    "executionInfo": {
     "elapsed": 4,
     "status": "ok",
     "timestamp": 1718852270643,
     "user": {
      "displayName": "毛利拓也",
      "userId": "17854120745961292401"
     },
     "user_tz": -540
    },
    "id": "tB4x6Gflj54P",
    "outputId": "f215bac1-436d-40da-d923-5127631787f7"
   },
   "outputs": [],
   "source": [
    "# バージョンの確認\n",
    "import matplotlib\n",
    "import sklearn\n",
    "print(np.__version__)\n",
    "print(matplotlib.__version__)\n",
    "print(sklearn.__version__)"
   ]
  },
  {
   "cell_type": "code",
   "execution_count": null,
   "metadata": {
    "colab": {
     "base_uri": "https://localhost:8080/"
    },
    "executionInfo": {
     "elapsed": 362,
     "status": "ok",
     "timestamp": 1718851992141,
     "user": {
      "displayName": "毛利拓也",
      "userId": "17854120745961292401"
     },
     "user_tz": -540
    },
    "id": "dLRBFrEEk9lm",
    "outputId": "3bb44df1-293d-4c07-c916-eaea8d42a1ee"
   },
   "outputs": [],
   "source": [
    "# 特徴量の次数は1次、2次元配列を作成\n",
    "X = [[2]]\n",
    "# 特徴量の次数を6次に変換\n",
    "poly = PolynomialFeatures(degree=6, include_bias=False)\n",
    "poly.fit(X)\n",
    "X_poly = poly.transform(X)\n",
    "\n",
    "X_poly"
   ]
  },
  {
   "cell_type": "markdown",
   "metadata": {},
   "source": [
    "## sin関数"
   ]
  },
  {
   "cell_type": "code",
   "execution_count": null,
   "metadata": {
    "executionInfo": {
     "elapsed": 348,
     "status": "ok",
     "timestamp": 1718851999237,
     "user": {
      "displayName": "毛利拓也",
      "userId": "17854120745961292401"
     },
     "user_tz": -540
    },
    "id": "j-FraSn5Idpt"
   },
   "outputs": [],
   "source": [
    "# sin関数にノイズを追加して訓練データ(X,y)を作成\n",
    "np.random.seed(seed=8) #乱数を固定\n",
    "# 1次元配列を2次元配列に変換\n",
    "X = np.random.uniform(0, 4, 15)[:, np.newaxis]\n",
    "# 2次元配列を1次元配列に変換\n",
    "y = np.sin(1/2 * np.pi * X ).flatten() + np.random.normal(0, 0.3, 15)\n",
    "\n",
    "# 次数を指定\n",
    "degree=6\n",
    "\n",
    "# 特徴量の多項式変換\n",
    "poly = PolynomialFeatures(degree=degree, include_bias=False)\n",
    "poly.fit(X)\n",
    "X_poly = poly.transform(X)"
   ]
  },
  {
   "cell_type": "code",
   "execution_count": null,
   "metadata": {},
   "outputs": [],
   "source": [
    "X[0]"
   ]
  },
  {
   "cell_type": "code",
   "execution_count": null,
   "metadata": {},
   "outputs": [],
   "source": [
    "X_poly[0]"
   ]
  },
  {
   "cell_type": "code",
   "execution_count": null,
   "metadata": {
    "colab": {
     "base_uri": "https://localhost:8080/",
     "height": 74
    },
    "executionInfo": {
     "elapsed": 381,
     "status": "ok",
     "timestamp": 1718852036570,
     "user": {
      "displayName": "毛利拓也",
      "userId": "17854120745961292401"
     },
     "user_tz": -540
    },
    "id": "pTm78aLZe1kN",
    "outputId": "1f146b84-7cde-4a9f-9a73-c2b9e17050b1"
   },
   "outputs": [],
   "source": [
    "from sklearn.linear_model import LinearRegression\n",
    "\n",
    "# 線形回帰モデルを作成\n",
    "model = LinearRegression()\n",
    "\n",
    "# 多項式変換した特徴量と正解値で学習\n",
    "model.fit(X_poly, y)"
   ]
  },
  {
   "cell_type": "code",
   "execution_count": null,
   "metadata": {
    "colab": {
     "base_uri": "https://localhost:8080/",
     "height": 368
    },
    "executionInfo": {
     "elapsed": 958,
     "status": "ok",
     "timestamp": 1718852068523,
     "user": {
      "displayName": "毛利拓也",
      "userId": "17854120745961292401"
     },
     "user_tz": -540
    },
    "id": "9bD4WbL3IK3G",
    "outputId": "f3c9c665-c63d-4956-85f2-7cb52bc35633"
   },
   "outputs": [],
   "source": [
    "plt.figure(figsize=(8, 4)) #プロットのサイズ指定\n",
    "\n",
    "# プロット用にデータX_pltを作成し2次元に変換\n",
    "X_plt = np.arange(0, 4, 0.1)[:, np.newaxis]\n",
    "# 正解値のプロット、1次元に変換\n",
    "y_true = np.sin(1/2 * np.pi * X_plt).flatten()\n",
    "# 予測値のプロット、1次元で出力\n",
    "y_pred = model.predict(poly.transform(X_plt))\n",
    "\n",
    "# 線形回帰の予測値\n",
    "plt.scatter(X, y, color='blue', label='data')\n",
    "plt.plot(X_plt, y_true, color='lime', linestyle='-', label='True sin(X)')\n",
    "plt.plot(X_plt, y_pred, color='red', linestyle='-', label=f'LinearRegression (degree={degree})')\n",
    "plt.legend(loc='upper right')\n",
    "\n",
    "plt.show()"
   ]
  },
  {
   "cell_type": "code",
   "execution_count": null,
   "metadata": {},
   "outputs": [],
   "source": [
    "X_plt"
   ]
  },
  {
   "cell_type": "code",
   "execution_count": null,
   "metadata": {
    "id": "hts155aRI_No"
   },
   "outputs": [],
   "source": [
    "y_true"
   ]
  },
  {
   "cell_type": "code",
   "execution_count": null,
   "metadata": {},
   "outputs": [],
   "source": [
    "y_pred"
   ]
  },
  {
   "cell_type": "code",
   "execution_count": null,
   "metadata": {},
   "outputs": [],
   "source": []
  },
  {
   "cell_type": "markdown",
   "metadata": {},
   "source": [
    "## Ridge回帰"
   ]
  },
  {
   "cell_type": "code",
   "execution_count": null,
   "metadata": {},
   "outputs": [],
   "source": [
    "from sklearn.linear_model import Ridge\n",
    "\n",
    "# 正則化の強さを指定\n",
    "alpha=0.1\n",
    "\n",
    "model2 = Ridge(alpha=alpha)\n",
    "\n",
    "# 多項式変換した特徴量と正解値で学習\n",
    "model2.fit(X_poly, y)"
   ]
  },
  {
   "cell_type": "code",
   "execution_count": null,
   "metadata": {},
   "outputs": [],
   "source": [
    "plt.figure(figsize=(8, 4)) #プロットのサイズ指定\n",
    "\n",
    "# プロット用にデータX_pltを作成し2次元に変換\n",
    "X_plt = np.arange(0, 4, 0.1)[:, np.newaxis]\n",
    "# 正解値のプロット、1次元に変換\n",
    "y_true = np.sin(1/2 * np.pi * X_plt).flatten()\n",
    "# 予測値のプロット、1次元で出力\n",
    "y_pred = model.predict(poly.transform(X_plt))\n",
    "# 予測値のプロット、1次元で出力\n",
    "y_pred2 = model2.predict(poly.transform(X_plt))\n",
    "\n",
    "# 線形回帰とRidge回帰の予測値の比較\n",
    "plt.scatter(X, y, color='blue', label='data')\n",
    "plt.plot(X_plt, y_true, color='lime', linestyle='-' ,label='True sin(X)')\n",
    "plt.plot(X_plt, y_pred, color='red', linestyle='-' ,label=f'LinearRegression (degree={degree})')\n",
    "plt.plot(X_plt, y_pred2, color='red', linestyle='--' ,label=f'Ridge alpha={alpha} (degree={degree})')\n",
    "plt.legend(loc='upper right')\n",
    "\n",
    "plt.show()"
   ]
  },
  {
   "cell_type": "code",
   "execution_count": null,
   "metadata": {},
   "outputs": [],
   "source": []
  },
  {
   "cell_type": "code",
   "execution_count": null,
   "metadata": {},
   "outputs": [],
   "source": []
  }
 ],
 "metadata": {
  "colab": {
   "provenance": []
  },
  "kernelspec": {
   "display_name": "Python 3 (ipykernel)",
   "language": "python",
   "name": "python3"
  },
  "language_info": {
   "codemirror_mode": {
    "name": "ipython",
    "version": 3
   },
   "file_extension": ".py",
   "mimetype": "text/x-python",
   "name": "python",
   "nbconvert_exporter": "python",
   "pygments_lexer": "ipython3",
   "version": "3.10.12"
  }
 },
 "nbformat": 4,
 "nbformat_minor": 4
}
