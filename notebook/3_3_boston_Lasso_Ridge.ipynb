{
 "cells": [
  {
   "cell_type": "markdown",
   "metadata": {
    "id": "C3hfMAyXDrZJ"
   },
   "source": [
    "# 多項式回帰（特徴量：ALL）の学習→予測→評価\n"
   ]
  },
  {
   "cell_type": "code",
   "execution_count": null,
   "metadata": {
    "id": "HKQ8XjX7t09i"
   },
   "outputs": [],
   "source": [
    "# # Colabでバージョンを変更するとき、コメントアウトして実行してください\n",
    "# !pip install pandas==2.0.3\n",
    "# !pip install numpy==1.25.2\n",
    "# !pip install matplotlib==3.7.1\n",
    "# !pip install scikit-learn==1.2.2"
   ]
  },
  {
   "cell_type": "code",
   "execution_count": null,
   "metadata": {
    "executionInfo": {
     "elapsed": 3152,
     "status": "ok",
     "timestamp": 1718853936510,
     "user": {
      "displayName": "毛利拓也",
      "userId": "17854120745961292401"
     },
     "user_tz": -540
    },
    "id": "H3ZPVmgmMGHg"
   },
   "outputs": [],
   "source": [
    "# ライブラリのインポート\n",
    "%matplotlib inline\n",
    "import pandas as pd\n",
    "import numpy as np\n",
    "import matplotlib.pyplot as plt\n",
    "from sklearn.preprocessing import PolynomialFeatures\n",
    "from sklearn.model_selection import train_test_split\n",
    "from sklearn.metrics import mean_squared_error"
   ]
  },
  {
   "cell_type": "code",
   "execution_count": null,
   "metadata": {
    "colab": {
     "base_uri": "https://localhost:8080/"
    },
    "executionInfo": {
     "elapsed": 341,
     "status": "ok",
     "timestamp": 1718853942978,
     "user": {
      "displayName": "毛利拓也",
      "userId": "17854120745961292401"
     },
     "user_tz": -540
    },
    "id": "AqPSnMZ9u_3Z",
    "outputId": "69543898-bcdf-41a0-b660-49dbdf560e2f"
   },
   "outputs": [],
   "source": [
    "# バージョンの確認\n",
    "import matplotlib\n",
    "import sklearn\n",
    "print(pd.__version__)\n",
    "print(np.__version__)\n",
    "print(matplotlib.__version__)\n",
    "print(sklearn.__version__)"
   ]
  },
  {
   "cell_type": "code",
   "execution_count": null,
   "metadata": {
    "colab": {
     "base_uri": "https://localhost:8080/",
     "height": 206
    },
    "executionInfo": {
     "elapsed": 824,
     "status": "ok",
     "timestamp": 1718853952170,
     "user": {
      "displayName": "毛利拓也",
      "userId": "17854120745961292401"
     },
     "user_tz": -540
    },
    "id": "tSHHtULoemB-",
    "outputId": "c29f1e63-9e4a-4d83-d6af-76bef5015bd3"
   },
   "outputs": [],
   "source": [
    "# データセットの読み込み\n",
    "df = pd.read_csv('https://archive.ics.uci.edu/ml/machine-learning-databases/housing/housing.data', header=None, sep='\\s+')\n",
    "df.columns=['CRIM', 'ZN', 'INDUS', 'CHAS', 'NOX', 'RM', 'AGE', 'DIS', 'RAD', 'TAX', 'PTRATIO', 'B', 'LSTAT', 'MEDV']\n",
    "df.head()"
   ]
  },
  {
   "cell_type": "code",
   "execution_count": null,
   "metadata": {
    "colab": {
     "base_uri": "https://localhost:8080/",
     "height": 206
    },
    "executionInfo": {
     "elapsed": 9,
     "status": "ok",
     "timestamp": 1718853953773,
     "user": {
      "displayName": "毛利拓也",
      "userId": "17854120745961292401"
     },
     "user_tz": -540
    },
    "id": "ne9eLhd0BvmF",
    "outputId": "780eb285-c962-401c-d0ba-9c1316e67037"
   },
   "outputs": [],
   "source": [
    "# 特徴量と目的変数の設定\n",
    "X = df.drop(['MEDV'], axis=1)\n",
    "y = df['MEDV']\n",
    "X.head()"
   ]
  },
  {
   "cell_type": "code",
   "execution_count": null,
   "metadata": {
    "colab": {
     "base_uri": "https://localhost:8080/"
    },
    "executionInfo": {
     "elapsed": 319,
     "status": "ok",
     "timestamp": 1718853958279,
     "user": {
      "displayName": "毛利拓也",
      "userId": "17854120745961292401"
     },
     "user_tz": -540
    },
    "id": "AcqeP2s6exzP",
    "outputId": "397aa85a-2d75-41dc-f1a5-94fccb65a91c"
   },
   "outputs": [],
   "source": [
    "# 学習データとテストデータに分割\n",
    "X_train, X_test, y_train, y_test = train_test_split(X, y, test_size=0.2, shuffle=True, random_state=0)\n",
    "print('X_trainの形状：', X_train.shape, ' y_trainの形状：', y_train.shape, ' X_testの形状：', X_test.shape, ' y_testの形状：', y_test.shape)"
   ]
  },
  {
   "cell_type": "code",
   "execution_count": null,
   "metadata": {
    "colab": {
     "base_uri": "https://localhost:8080/"
    },
    "executionInfo": {
     "elapsed": 382,
     "status": "ok",
     "timestamp": 1718853975892,
     "user": {
      "displayName": "毛利拓也",
      "userId": "17854120745961292401"
     },
     "user_tz": -540
    },
    "id": "SJJI4uGR6o-Q",
    "outputId": "6973312c-ab92-4bad-f345-fa27c1fc54d7"
   },
   "outputs": [],
   "source": [
    "# 特徴量を2次多項式に変換\n",
    "poly = PolynomialFeatures(degree=2, include_bias=False)\n",
    "\n",
    "poly.fit(X_train)\n",
    "X_train_poly = poly.transform(X_train)\n",
    "X_test_poly = poly.transform(X_test)\n",
    "print(X_train_poly.shape)\n",
    "print(X_test_poly.shape)\n",
    "print(X_train_poly[0]) # 1件目の標準化された学習データの特徴量"
   ]
  },
  {
   "cell_type": "code",
   "execution_count": null,
   "metadata": {
    "colab": {
     "base_uri": "https://localhost:8080/"
    },
    "executionInfo": {
     "elapsed": 379,
     "status": "ok",
     "timestamp": 1718854002400,
     "user": {
      "displayName": "毛利拓也",
      "userId": "17854120745961292401"
     },
     "user_tz": -540
    },
    "id": "h9auqr5MBPrD",
    "outputId": "d92d2cf6-7202-4b0f-81a7-41d39e8bde66"
   },
   "outputs": [],
   "source": [
    "# 特徴量の標準化\n",
    "from sklearn.preprocessing import StandardScaler\n",
    "\n",
    "scaler = StandardScaler() # 変換器の作成\n",
    "scaler.fit(X_train_poly) # 学習データでの標準化パラメータの計算\n",
    "X_train = scaler.transform(X_train_poly) # 学習データの変換\n",
    "X_test = scaler.transform(X_test_poly) # テストデータの変換\n",
    "\n",
    "print(X_train[0]) # 1件目の標準化された学習データの特徴量"
   ]
  },
  {
   "cell_type": "code",
   "execution_count": null,
   "metadata": {
    "colab": {
     "base_uri": "https://localhost:8080/"
    },
    "executionInfo": {
     "elapsed": 361,
     "status": "ok",
     "timestamp": 1718854009766,
     "user": {
      "displayName": "毛利拓也",
      "userId": "17854120745961292401"
     },
     "user_tz": -540
    },
    "id": "sj40YexSVTpo",
    "outputId": "e09f62c6-ed00-49db-c018-41ca80b24043"
   },
   "outputs": [],
   "source": [
    "# モデルの学習\n",
    "from sklearn.linear_model import LinearRegression\n",
    "\n",
    "model = LinearRegression() # 線形回帰モデル\n",
    "model.fit(X_train, y_train)\n",
    "model.get_params()"
   ]
  },
  {
   "cell_type": "code",
   "execution_count": null,
   "metadata": {
    "colab": {
     "base_uri": "https://localhost:8080/"
    },
    "executionInfo": {
     "elapsed": 330,
     "status": "ok",
     "timestamp": 1718854015465,
     "user": {
      "displayName": "毛利拓也",
      "userId": "17854120745961292401"
     },
     "user_tz": -540
    },
    "id": "8pZ1AkU_k1kg",
    "outputId": "70ae7c22-ff29-4eb2-bc3e-216be8570bf7"
   },
   "outputs": [],
   "source": [
    "# テストデータの予測と評価\n",
    "y_test_pred = model.predict(X_test)\n",
    "print('RMSE test: %.2f' % (mean_squared_error(y_test, y_test_pred) ** 0.5))"
   ]
  },
  {
   "cell_type": "code",
   "execution_count": null,
   "metadata": {
    "colab": {
     "base_uri": "https://localhost:8080/"
    },
    "executionInfo": {
     "elapsed": 2,
     "status": "ok",
     "timestamp": 1718854016884,
     "user": {
      "displayName": "毛利拓也",
      "userId": "17854120745961292401"
     },
     "user_tz": -540
    },
    "id": "vOCc8vYDpNhm",
    "outputId": "a877204e-d864-4678-a92d-6793cfe76851"
   },
   "outputs": [],
   "source": [
    "# テストデータの目的関数の統計情報\n",
    "y_test.describe()"
   ]
  },
  {
   "cell_type": "code",
   "execution_count": null,
   "metadata": {
    "colab": {
     "base_uri": "https://localhost:8080/"
    },
    "executionInfo": {
     "elapsed": 315,
     "status": "ok",
     "timestamp": 1718854023722,
     "user": {
      "displayName": "毛利拓也",
      "userId": "17854120745961292401"
     },
     "user_tz": -540
    },
    "id": "5BUWgEOiDbxk",
    "outputId": "ddfc1b20-2e8d-4497-b880-1427eea0a5cd"
   },
   "outputs": [],
   "source": [
    "# 正則化無しのパラメータ\n",
    "print('回帰係数 w = [w1, w2, … , w104]:', model.coef_)\n",
    "print('定数項 w0:', model.intercept_)"
   ]
  },
  {
   "cell_type": "code",
   "execution_count": null,
   "metadata": {
    "id": "ElW2gYPf9BHv"
   },
   "outputs": [],
   "source": []
  },
  {
   "cell_type": "markdown",
   "metadata": {
    "id": "MBaLWuf8QAjv"
   },
   "source": [
    "# Lasso回帰（特徴量：ALL）の学習→予測→評価"
   ]
  },
  {
   "cell_type": "code",
   "execution_count": null,
   "metadata": {
    "colab": {
     "base_uri": "https://localhost:8080/"
    },
    "executionInfo": {
     "elapsed": 4,
     "status": "ok",
     "timestamp": 1716878405031,
     "user": {
      "displayName": "毛利拓也",
      "userId": "17854120745961292401"
     },
     "user_tz": -540
    },
    "id": "--1C3PTQ9WoQ",
    "outputId": "a93a6979-0e3a-4edc-ac33-a66f40cd3ef1"
   },
   "outputs": [],
   "source": [
    "# モデルの学習\n",
    "from sklearn.linear_model import Lasso\n",
    "model2 = Lasso(alpha=0.1)\n",
    "\n",
    "model2.fit(X_train, y_train)\n",
    "model2.get_params()"
   ]
  },
  {
   "cell_type": "code",
   "execution_count": null,
   "metadata": {
    "colab": {
     "base_uri": "https://localhost:8080/"
    },
    "executionInfo": {
     "elapsed": 4,
     "status": "ok",
     "timestamp": 1716878406262,
     "user": {
      "displayName": "毛利拓也",
      "userId": "17854120745961292401"
     },
     "user_tz": -540
    },
    "id": "1o8lG6Vq_VRQ",
    "outputId": "ab0d8bb7-1c96-4ee2-a9b8-2d675632b5a0"
   },
   "outputs": [],
   "source": [
    "# 正則化有りのパラメータ\n",
    "print('回帰係数 w = [w1, w2, … , w104]:', model2.coef_)\n",
    "print('定数項 w0:', model2.intercept_)"
   ]
  },
  {
   "cell_type": "code",
   "execution_count": null,
   "metadata": {
    "colab": {
     "base_uri": "https://localhost:8080/"
    },
    "executionInfo": {
     "elapsed": 368,
     "status": "ok",
     "timestamp": 1716878408822,
     "user": {
      "displayName": "毛利拓也",
      "userId": "17854120745961292401"
     },
     "user_tz": -540
    },
    "id": "Ixh3jusW9WrC",
    "outputId": "8f0f4f80-d13c-482a-e297-20c14f23a6d2"
   },
   "outputs": [],
   "source": [
    "# テストデータの予測と評価\n",
    "y_test_pred = model2.predict(X_test)\n",
    "print('RMSE test: %.2f' % (mean_squared_error(y_test, y_test_pred) ** 0.5))"
   ]
  },
  {
   "cell_type": "code",
   "execution_count": null,
   "metadata": {
    "id": "KwnfNfOX9Wt4"
   },
   "outputs": [],
   "source": []
  },
  {
   "cell_type": "markdown",
   "metadata": {
    "id": "ccGNFiYYQHPZ"
   },
   "source": [
    "# Ridge回帰（特徴量：ALL）の学習→予測→評価"
   ]
  },
  {
   "cell_type": "code",
   "execution_count": null,
   "metadata": {
    "colab": {
     "base_uri": "https://localhost:8080/"
    },
    "executionInfo": {
     "elapsed": 274,
     "status": "ok",
     "timestamp": 1716883779805,
     "user": {
      "displayName": "毛利拓也",
      "userId": "17854120745961292401"
     },
     "user_tz": -540
    },
    "id": "xn3UMEULjbAP",
    "outputId": "69ec3687-76b0-49fb-ff87-9daec9ddf3ae"
   },
   "outputs": [],
   "source": [
    "# モデルの学習\n",
    "from sklearn.linear_model import Ridge\n",
    "model3 = Ridge(alpha=0.1)\n",
    "\n",
    "model3.fit(X_train, y_train)\n",
    "model3.get_params()"
   ]
  },
  {
   "cell_type": "code",
   "execution_count": null,
   "metadata": {
    "colab": {
     "base_uri": "https://localhost:8080/"
    },
    "executionInfo": {
     "elapsed": 257,
     "status": "ok",
     "timestamp": 1716883784028,
     "user": {
      "displayName": "毛利拓也",
      "userId": "17854120745961292401"
     },
     "user_tz": -540
    },
    "id": "Ke7DjETsPsSI",
    "outputId": "d0702c41-5c25-4070-ed90-90831963499d"
   },
   "outputs": [],
   "source": [
    "# 正則化有りのパラメータ\n",
    "print('回帰係数 w = [w1, w2, … , w104]:', model3.coef_)\n",
    "print('定数項 w0:', model3.intercept_)"
   ]
  },
  {
   "cell_type": "code",
   "execution_count": null,
   "metadata": {
    "colab": {
     "base_uri": "https://localhost:8080/"
    },
    "executionInfo": {
     "elapsed": 250,
     "status": "ok",
     "timestamp": 1716883785659,
     "user": {
      "displayName": "毛利拓也",
      "userId": "17854120745961292401"
     },
     "user_tz": -540
    },
    "id": "m-gBFQ47Pv38",
    "outputId": "95ad6c2a-0f4f-4b02-cbbc-7181731551e5"
   },
   "outputs": [],
   "source": [
    "# テストデータの予測と評価\n",
    "y_test_pred = model3.predict(X_test)\n",
    "print('RMSE test: %.2f' % (mean_squared_error(y_test, y_test_pred) ** 0.5))"
   ]
  },
  {
   "cell_type": "code",
   "execution_count": null,
   "metadata": {
    "id": "Simo5au9P4Tk"
   },
   "outputs": [],
   "source": []
  }
 ],
 "metadata": {
  "colab": {
   "provenance": []
  },
  "kernelspec": {
   "display_name": "Python 3 (ipykernel)",
   "language": "python",
   "name": "python3"
  },
  "language_info": {
   "codemirror_mode": {
    "name": "ipython",
    "version": 3
   },
   "file_extension": ".py",
   "mimetype": "text/x-python",
   "name": "python",
   "nbconvert_exporter": "python",
   "pygments_lexer": "ipython3",
   "version": "3.10.12"
  }
 },
 "nbformat": 4,
 "nbformat_minor": 4
}
