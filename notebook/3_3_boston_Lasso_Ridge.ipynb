{
 "cells": [
  {
   "cell_type": "markdown",
   "metadata": {
    "id": "C3hfMAyXDrZJ"
   },
   "source": [
    "# 多項式回帰（特徴量：ALL）の学習→予測→評価\n"
   ]
  },
  {
   "cell_type": "code",
   "execution_count": null,
   "metadata": {
    "id": "HKQ8XjX7t09i",
    "vscode": {
     "languageId": "python"
    }
   },
   "outputs": [],
   "source": [
    "# # Colabでバージョンを変更するとき、コメントアウトして実行してください\n",
    "# !pip install pandas==2.0.3\n",
    "# !pip install numpy==1.25.2\n",
    "# !pip install matplotlib==3.7.1\n",
    "# !pip install scikit-learn==1.2.2"
   ]
  },
  {
   "cell_type": "code",
   "execution_count": 1,
   "metadata": {
    "executionInfo": {
     "elapsed": 3152,
     "status": "ok",
     "timestamp": 1718853936510,
     "user": {
      "displayName": "毛利拓也",
      "userId": "17854120745961292401"
     },
     "user_tz": -540
    },
    "id": "H3ZPVmgmMGHg",
    "vscode": {
     "languageId": "python"
    }
   },
   "outputs": [],
   "source": [
    "# ライブラリのインポート\n",
    "%matplotlib inline\n",
    "import pandas as pd\n",
    "import numpy as np\n",
    "import matplotlib.pyplot as plt\n",
    "from sklearn.preprocessing import PolynomialFeatures\n",
    "from sklearn.model_selection import train_test_split\n",
    "from sklearn.metrics import mean_squared_error"
   ]
  },
  {
   "cell_type": "code",
   "execution_count": 2,
   "metadata": {
    "colab": {
     "base_uri": "https://localhost:8080/"
    },
    "executionInfo": {
     "elapsed": 341,
     "status": "ok",
     "timestamp": 1718853942978,
     "user": {
      "displayName": "毛利拓也",
      "userId": "17854120745961292401"
     },
     "user_tz": -540
    },
    "id": "AqPSnMZ9u_3Z",
    "outputId": "69543898-bcdf-41a0-b660-49dbdf560e2f",
    "vscode": {
     "languageId": "python"
    }
   },
   "outputs": [
    {
     "name": "stdout",
     "output_type": "stream",
     "text": [
      "2.0.3\n",
      "1.25.2\n",
      "3.7.1\n",
      "1.2.2\n"
     ]
    }
   ],
   "source": [
    "# バージョンの確認\n",
    "import matplotlib\n",
    "import sklearn\n",
    "print(pd.__version__)\n",
    "print(np.__version__)\n",
    "print(matplotlib.__version__)\n",
    "print(sklearn.__version__)"
   ]
  },
  {
   "cell_type": "code",
   "execution_count": 3,
   "metadata": {
    "colab": {
     "base_uri": "https://localhost:8080/",
     "height": 206
    },
    "executionInfo": {
     "elapsed": 824,
     "status": "ok",
     "timestamp": 1718853952170,
     "user": {
      "displayName": "毛利拓也",
      "userId": "17854120745961292401"
     },
     "user_tz": -540
    },
    "id": "tSHHtULoemB-",
    "outputId": "c29f1e63-9e4a-4d83-d6af-76bef5015bd3",
    "vscode": {
     "languageId": "python"
    }
   },
   "outputs": [
    {
     "data": {
      "text/html": [
       "<div>\n",
       "<style scoped>\n",
       "    .dataframe tbody tr th:only-of-type {\n",
       "        vertical-align: middle;\n",
       "    }\n",
       "\n",
       "    .dataframe tbody tr th {\n",
       "        vertical-align: top;\n",
       "    }\n",
       "\n",
       "    .dataframe thead th {\n",
       "        text-align: right;\n",
       "    }\n",
       "</style>\n",
       "<table border=\"1\" class=\"dataframe\">\n",
       "  <thead>\n",
       "    <tr style=\"text-align: right;\">\n",
       "      <th></th>\n",
       "      <th>CRIM</th>\n",
       "      <th>ZN</th>\n",
       "      <th>INDUS</th>\n",
       "      <th>CHAS</th>\n",
       "      <th>NOX</th>\n",
       "      <th>RM</th>\n",
       "      <th>AGE</th>\n",
       "      <th>DIS</th>\n",
       "      <th>RAD</th>\n",
       "      <th>TAX</th>\n",
       "      <th>PTRATIO</th>\n",
       "      <th>B</th>\n",
       "      <th>LSTAT</th>\n",
       "      <th>MEDV</th>\n",
       "    </tr>\n",
       "  </thead>\n",
       "  <tbody>\n",
       "    <tr>\n",
       "      <th>0</th>\n",
       "      <td>0.00632</td>\n",
       "      <td>18.0</td>\n",
       "      <td>2.31</td>\n",
       "      <td>0</td>\n",
       "      <td>0.538</td>\n",
       "      <td>6.575</td>\n",
       "      <td>65.2</td>\n",
       "      <td>4.0900</td>\n",
       "      <td>1</td>\n",
       "      <td>296.0</td>\n",
       "      <td>15.3</td>\n",
       "      <td>396.90</td>\n",
       "      <td>4.98</td>\n",
       "      <td>24.0</td>\n",
       "    </tr>\n",
       "    <tr>\n",
       "      <th>1</th>\n",
       "      <td>0.02731</td>\n",
       "      <td>0.0</td>\n",
       "      <td>7.07</td>\n",
       "      <td>0</td>\n",
       "      <td>0.469</td>\n",
       "      <td>6.421</td>\n",
       "      <td>78.9</td>\n",
       "      <td>4.9671</td>\n",
       "      <td>2</td>\n",
       "      <td>242.0</td>\n",
       "      <td>17.8</td>\n",
       "      <td>396.90</td>\n",
       "      <td>9.14</td>\n",
       "      <td>21.6</td>\n",
       "    </tr>\n",
       "    <tr>\n",
       "      <th>2</th>\n",
       "      <td>0.02729</td>\n",
       "      <td>0.0</td>\n",
       "      <td>7.07</td>\n",
       "      <td>0</td>\n",
       "      <td>0.469</td>\n",
       "      <td>7.185</td>\n",
       "      <td>61.1</td>\n",
       "      <td>4.9671</td>\n",
       "      <td>2</td>\n",
       "      <td>242.0</td>\n",
       "      <td>17.8</td>\n",
       "      <td>392.83</td>\n",
       "      <td>4.03</td>\n",
       "      <td>34.7</td>\n",
       "    </tr>\n",
       "    <tr>\n",
       "      <th>3</th>\n",
       "      <td>0.03237</td>\n",
       "      <td>0.0</td>\n",
       "      <td>2.18</td>\n",
       "      <td>0</td>\n",
       "      <td>0.458</td>\n",
       "      <td>6.998</td>\n",
       "      <td>45.8</td>\n",
       "      <td>6.0622</td>\n",
       "      <td>3</td>\n",
       "      <td>222.0</td>\n",
       "      <td>18.7</td>\n",
       "      <td>394.63</td>\n",
       "      <td>2.94</td>\n",
       "      <td>33.4</td>\n",
       "    </tr>\n",
       "    <tr>\n",
       "      <th>4</th>\n",
       "      <td>0.06905</td>\n",
       "      <td>0.0</td>\n",
       "      <td>2.18</td>\n",
       "      <td>0</td>\n",
       "      <td>0.458</td>\n",
       "      <td>7.147</td>\n",
       "      <td>54.2</td>\n",
       "      <td>6.0622</td>\n",
       "      <td>3</td>\n",
       "      <td>222.0</td>\n",
       "      <td>18.7</td>\n",
       "      <td>396.90</td>\n",
       "      <td>5.33</td>\n",
       "      <td>36.2</td>\n",
       "    </tr>\n",
       "  </tbody>\n",
       "</table>\n",
       "</div>"
      ],
      "text/plain": [
       "      CRIM    ZN  INDUS  CHAS    NOX     RM   AGE     DIS  RAD    TAX  \\\n",
       "0  0.00632  18.0   2.31     0  0.538  6.575  65.2  4.0900    1  296.0   \n",
       "1  0.02731   0.0   7.07     0  0.469  6.421  78.9  4.9671    2  242.0   \n",
       "2  0.02729   0.0   7.07     0  0.469  7.185  61.1  4.9671    2  242.0   \n",
       "3  0.03237   0.0   2.18     0  0.458  6.998  45.8  6.0622    3  222.0   \n",
       "4  0.06905   0.0   2.18     0  0.458  7.147  54.2  6.0622    3  222.0   \n",
       "\n",
       "   PTRATIO       B  LSTAT  MEDV  \n",
       "0     15.3  396.90   4.98  24.0  \n",
       "1     17.8  396.90   9.14  21.6  \n",
       "2     17.8  392.83   4.03  34.7  \n",
       "3     18.7  394.63   2.94  33.4  \n",
       "4     18.7  396.90   5.33  36.2  "
      ]
     },
     "execution_count": 3,
     "metadata": {},
     "output_type": "execute_result"
    }
   ],
   "source": [
    "# データセットの読み込み\n",
    "df = pd.read_csv('https://archive.ics.uci.edu/ml/machine-learning-databases/housing/housing.data', header=None, sep='\\s+')\n",
    "df.columns=['CRIM', 'ZN', 'INDUS', 'CHAS', 'NOX', 'RM', 'AGE', 'DIS', 'RAD', 'TAX', 'PTRATIO', 'B', 'LSTAT', 'MEDV']\n",
    "df.head()"
   ]
  },
  {
   "cell_type": "code",
   "execution_count": 4,
   "metadata": {
    "colab": {
     "base_uri": "https://localhost:8080/",
     "height": 206
    },
    "executionInfo": {
     "elapsed": 9,
     "status": "ok",
     "timestamp": 1718853953773,
     "user": {
      "displayName": "毛利拓也",
      "userId": "17854120745961292401"
     },
     "user_tz": -540
    },
    "id": "ne9eLhd0BvmF",
    "outputId": "780eb285-c962-401c-d0ba-9c1316e67037",
    "vscode": {
     "languageId": "python"
    }
   },
   "outputs": [
    {
     "data": {
      "text/html": [
       "<div>\n",
       "<style scoped>\n",
       "    .dataframe tbody tr th:only-of-type {\n",
       "        vertical-align: middle;\n",
       "    }\n",
       "\n",
       "    .dataframe tbody tr th {\n",
       "        vertical-align: top;\n",
       "    }\n",
       "\n",
       "    .dataframe thead th {\n",
       "        text-align: right;\n",
       "    }\n",
       "</style>\n",
       "<table border=\"1\" class=\"dataframe\">\n",
       "  <thead>\n",
       "    <tr style=\"text-align: right;\">\n",
       "      <th></th>\n",
       "      <th>CRIM</th>\n",
       "      <th>ZN</th>\n",
       "      <th>INDUS</th>\n",
       "      <th>CHAS</th>\n",
       "      <th>NOX</th>\n",
       "      <th>RM</th>\n",
       "      <th>AGE</th>\n",
       "      <th>DIS</th>\n",
       "      <th>RAD</th>\n",
       "      <th>TAX</th>\n",
       "      <th>PTRATIO</th>\n",
       "      <th>B</th>\n",
       "      <th>LSTAT</th>\n",
       "    </tr>\n",
       "  </thead>\n",
       "  <tbody>\n",
       "    <tr>\n",
       "      <th>0</th>\n",
       "      <td>0.00632</td>\n",
       "      <td>18.0</td>\n",
       "      <td>2.31</td>\n",
       "      <td>0</td>\n",
       "      <td>0.538</td>\n",
       "      <td>6.575</td>\n",
       "      <td>65.2</td>\n",
       "      <td>4.0900</td>\n",
       "      <td>1</td>\n",
       "      <td>296.0</td>\n",
       "      <td>15.3</td>\n",
       "      <td>396.90</td>\n",
       "      <td>4.98</td>\n",
       "    </tr>\n",
       "    <tr>\n",
       "      <th>1</th>\n",
       "      <td>0.02731</td>\n",
       "      <td>0.0</td>\n",
       "      <td>7.07</td>\n",
       "      <td>0</td>\n",
       "      <td>0.469</td>\n",
       "      <td>6.421</td>\n",
       "      <td>78.9</td>\n",
       "      <td>4.9671</td>\n",
       "      <td>2</td>\n",
       "      <td>242.0</td>\n",
       "      <td>17.8</td>\n",
       "      <td>396.90</td>\n",
       "      <td>9.14</td>\n",
       "    </tr>\n",
       "    <tr>\n",
       "      <th>2</th>\n",
       "      <td>0.02729</td>\n",
       "      <td>0.0</td>\n",
       "      <td>7.07</td>\n",
       "      <td>0</td>\n",
       "      <td>0.469</td>\n",
       "      <td>7.185</td>\n",
       "      <td>61.1</td>\n",
       "      <td>4.9671</td>\n",
       "      <td>2</td>\n",
       "      <td>242.0</td>\n",
       "      <td>17.8</td>\n",
       "      <td>392.83</td>\n",
       "      <td>4.03</td>\n",
       "    </tr>\n",
       "    <tr>\n",
       "      <th>3</th>\n",
       "      <td>0.03237</td>\n",
       "      <td>0.0</td>\n",
       "      <td>2.18</td>\n",
       "      <td>0</td>\n",
       "      <td>0.458</td>\n",
       "      <td>6.998</td>\n",
       "      <td>45.8</td>\n",
       "      <td>6.0622</td>\n",
       "      <td>3</td>\n",
       "      <td>222.0</td>\n",
       "      <td>18.7</td>\n",
       "      <td>394.63</td>\n",
       "      <td>2.94</td>\n",
       "    </tr>\n",
       "    <tr>\n",
       "      <th>4</th>\n",
       "      <td>0.06905</td>\n",
       "      <td>0.0</td>\n",
       "      <td>2.18</td>\n",
       "      <td>0</td>\n",
       "      <td>0.458</td>\n",
       "      <td>7.147</td>\n",
       "      <td>54.2</td>\n",
       "      <td>6.0622</td>\n",
       "      <td>3</td>\n",
       "      <td>222.0</td>\n",
       "      <td>18.7</td>\n",
       "      <td>396.90</td>\n",
       "      <td>5.33</td>\n",
       "    </tr>\n",
       "  </tbody>\n",
       "</table>\n",
       "</div>"
      ],
      "text/plain": [
       "      CRIM    ZN  INDUS  CHAS    NOX     RM   AGE     DIS  RAD    TAX  \\\n",
       "0  0.00632  18.0   2.31     0  0.538  6.575  65.2  4.0900    1  296.0   \n",
       "1  0.02731   0.0   7.07     0  0.469  6.421  78.9  4.9671    2  242.0   \n",
       "2  0.02729   0.0   7.07     0  0.469  7.185  61.1  4.9671    2  242.0   \n",
       "3  0.03237   0.0   2.18     0  0.458  6.998  45.8  6.0622    3  222.0   \n",
       "4  0.06905   0.0   2.18     0  0.458  7.147  54.2  6.0622    3  222.0   \n",
       "\n",
       "   PTRATIO       B  LSTAT  \n",
       "0     15.3  396.90   4.98  \n",
       "1     17.8  396.90   9.14  \n",
       "2     17.8  392.83   4.03  \n",
       "3     18.7  394.63   2.94  \n",
       "4     18.7  396.90   5.33  "
      ]
     },
     "execution_count": 4,
     "metadata": {},
     "output_type": "execute_result"
    }
   ],
   "source": [
    "# 特徴量と目的変数の設定\n",
    "X = df.drop(['MEDV'], axis=1)\n",
    "y = df['MEDV']\n",
    "X.head()"
   ]
  },
  {
   "cell_type": "code",
   "execution_count": 5,
   "metadata": {
    "colab": {
     "base_uri": "https://localhost:8080/"
    },
    "executionInfo": {
     "elapsed": 319,
     "status": "ok",
     "timestamp": 1718853958279,
     "user": {
      "displayName": "毛利拓也",
      "userId": "17854120745961292401"
     },
     "user_tz": -540
    },
    "id": "AcqeP2s6exzP",
    "outputId": "397aa85a-2d75-41dc-f1a5-94fccb65a91c",
    "vscode": {
     "languageId": "python"
    }
   },
   "outputs": [
    {
     "name": "stdout",
     "output_type": "stream",
     "text": [
      "X_trainの形状： (404, 13)  y_trainの形状： (404,)  X_testの形状： (102, 13)  y_testの形状： (102,)\n"
     ]
    }
   ],
   "source": [
    "# 学習データとテストデータに分割\n",
    "X_train, X_test, y_train, y_test = train_test_split(X, y, test_size=0.2, shuffle=True, random_state=0)\n",
    "print('X_trainの形状：', X_train.shape, ' y_trainの形状：', y_train.shape, ' X_testの形状：', X_test.shape, ' y_testの形状：', y_test.shape)"
   ]
  },
  {
   "cell_type": "code",
   "execution_count": 6,
   "metadata": {
    "colab": {
     "base_uri": "https://localhost:8080/"
    },
    "executionInfo": {
     "elapsed": 382,
     "status": "ok",
     "timestamp": 1718853975892,
     "user": {
      "displayName": "毛利拓也",
      "userId": "17854120745961292401"
     },
     "user_tz": -540
    },
    "id": "SJJI4uGR6o-Q",
    "outputId": "6973312c-ab92-4bad-f345-fa27c1fc54d7"
   },
   "outputs": [
    {
     "name": "stdout",
     "output_type": "stream",
     "text": [
      "(404, 104)\n",
      "(102, 104)\n",
      "[3.58090000e-01 0.00000000e+00 6.20000000e+00 1.00000000e+00\n",
      " 5.07000000e-01 6.95100000e+00 8.85000000e+01 2.86170000e+00\n",
      " 8.00000000e+00 3.07000000e+02 1.74000000e+01 3.91700000e+02\n",
      " 9.71000000e+00 1.28228448e-01 0.00000000e+00 2.22015800e+00\n",
      " 3.58090000e-01 1.81551630e-01 2.48908359e+00 3.16909650e+01\n",
      " 1.02474615e+00 2.86472000e+00 1.09933630e+02 6.23076600e+00\n",
      " 1.40263853e+02 3.47705390e+00 0.00000000e+00 0.00000000e+00\n",
      " 0.00000000e+00 0.00000000e+00 0.00000000e+00 0.00000000e+00\n",
      " 0.00000000e+00 0.00000000e+00 0.00000000e+00 0.00000000e+00\n",
      " 0.00000000e+00 0.00000000e+00 3.84400000e+01 6.20000000e+00\n",
      " 3.14340000e+00 4.30962000e+01 5.48700000e+02 1.77425400e+01\n",
      " 4.96000000e+01 1.90340000e+03 1.07880000e+02 2.42854000e+03\n",
      " 6.02020000e+01 1.00000000e+00 5.07000000e-01 6.95100000e+00\n",
      " 8.85000000e+01 2.86170000e+00 8.00000000e+00 3.07000000e+02\n",
      " 1.74000000e+01 3.91700000e+02 9.71000000e+00 2.57049000e-01\n",
      " 3.52415700e+00 4.48695000e+01 1.45088190e+00 4.05600000e+00\n",
      " 1.55649000e+02 8.82180000e+00 1.98591900e+02 4.92297000e+00\n",
      " 4.83164010e+01 6.15163500e+02 1.98916767e+01 5.56080000e+01\n",
      " 2.13395700e+03 1.20947400e+02 2.72270670e+03 6.74942100e+01\n",
      " 7.83225000e+03 2.53260450e+02 7.08000000e+02 2.71695000e+04\n",
      " 1.53990000e+03 3.46654500e+04 8.59335000e+02 8.18932689e+00\n",
      " 2.28936000e+01 8.78541900e+02 4.97935800e+01 1.12092789e+03\n",
      " 2.77871070e+01 6.40000000e+01 2.45600000e+03 1.39200000e+02\n",
      " 3.13360000e+03 7.76800000e+01 9.42490000e+04 5.34180000e+03\n",
      " 1.20251900e+05 2.98097000e+03 3.02760000e+02 6.81558000e+03\n",
      " 1.68954000e+02 1.53428890e+05 3.80340700e+03 9.42841000e+01]\n"
     ]
    }
   ],
   "source": [
    "# 特徴量を2次多項式に変換\n",
    "poly = PolynomialFeatures(degree=2, include_bias=False)\n",
    "\n",
    "poly.fit(X_train)\n",
    "X_train_poly = poly.transform(X_train)\n",
    "X_test_poly = poly.transform(X_test)\n",
    "print(X_train_poly.shape)\n",
    "print(X_test_poly.shape)\n",
    "print(X_train_poly[0]) # 1件目の標準化された学習データの特徴量"
   ]
  },
  {
   "cell_type": "code",
   "execution_count": 7,
   "metadata": {
    "colab": {
     "base_uri": "https://localhost:8080/"
    },
    "executionInfo": {
     "elapsed": 379,
     "status": "ok",
     "timestamp": 1718854002400,
     "user": {
      "displayName": "毛利拓也",
      "userId": "17854120745961292401"
     },
     "user_tz": -540
    },
    "id": "h9auqr5MBPrD",
    "outputId": "d92d2cf6-7202-4b0f-81a7-41d39e8bde66",
    "vscode": {
     "languageId": "python"
    }
   },
   "outputs": [
    {
     "name": "stdout",
     "output_type": "stream",
     "text": [
      "[-0.37257438 -0.49960763 -0.70492455  3.66450153 -0.42487874  0.93567804\n",
      "  0.69366877 -0.4372179  -0.16224243 -0.56165616 -0.48463784  0.3716906\n",
      " -0.41100022 -0.15828849 -0.40401763 -0.39164747  0.33171589 -0.38055514\n",
      " -0.35959919 -0.36424113 -0.42094632 -0.37099583 -0.37823372 -0.3728625\n",
      " -0.30087791 -0.34898538 -0.37113272 -0.5143492  -0.11385718 -0.51929827\n",
      " -0.49074131 -0.53669855 -0.44053652 -0.50213112 -0.4858122  -0.49819439\n",
      " -0.49972522 -0.50517267 -0.76007475  1.61685027 -0.7154799  -0.59913188\n",
      " -0.46469757 -0.99867195 -0.51405503 -0.71221238 -0.73736458 -0.51569491\n",
      " -0.66108295  3.66450153  3.14216742  3.85101113  4.22343713  2.99684973\n",
      "  2.36571936  2.70949049  3.59687362  3.7339312   2.66589749 -0.47445708\n",
      "  0.06394559  0.18922796 -0.615943   -0.29062094 -0.58350917 -0.56510422\n",
      "  0.05179377 -0.48913402  0.90550258  1.06526813 -0.29984672 -0.04670497\n",
      " -0.36215209  0.34746246  0.7180842  -0.23877562  0.66519085  0.38721668\n",
      " -0.05791863 -0.14583958  0.43628907  0.90350607 -0.17660622 -0.49679238\n",
      " -0.21141617 -0.75615863 -0.50669087 -0.32281582 -0.54760948 -0.41049491\n",
      " -0.41818709 -0.23974624  0.03433197 -0.36736512 -0.61224094 -0.60171136\n",
      " -0.2718076  -0.54802231 -0.556601    0.12426483 -0.48126935  0.41639571\n",
      " -0.19062279 -0.50278483]\n"
     ]
    }
   ],
   "source": [
    "# 特徴量の標準化\n",
    "from sklearn.preprocessing import StandardScaler\n",
    "\n",
    "scaler = StandardScaler() # 変換器の作成\n",
    "scaler.fit(X_train_poly) # 学習データでの標準化パラメータの計算\n",
    "X_train = scaler.transform(X_train_poly) # 学習データの変換\n",
    "X_test = scaler.transform(X_test_poly) # テストデータの変換\n",
    "\n",
    "print(X_train[0]) # 1件目の標準化された学習データの特徴量"
   ]
  },
  {
   "cell_type": "code",
   "execution_count": 8,
   "metadata": {
    "colab": {
     "base_uri": "https://localhost:8080/"
    },
    "executionInfo": {
     "elapsed": 361,
     "status": "ok",
     "timestamp": 1718854009766,
     "user": {
      "displayName": "毛利拓也",
      "userId": "17854120745961292401"
     },
     "user_tz": -540
    },
    "id": "sj40YexSVTpo",
    "outputId": "e09f62c6-ed00-49db-c018-41ca80b24043",
    "vscode": {
     "languageId": "python"
    }
   },
   "outputs": [
    {
     "data": {
      "text/plain": [
       "{'copy_X': True, 'fit_intercept': True, 'n_jobs': None, 'positive': False}"
      ]
     },
     "execution_count": 8,
     "metadata": {},
     "output_type": "execute_result"
    }
   ],
   "source": [
    "# モデルの学習\n",
    "from sklearn.linear_model import LinearRegression\n",
    "\n",
    "model = LinearRegression() # 線形回帰モデル\n",
    "model.fit(X_train, y_train)\n",
    "model.get_params()"
   ]
  },
  {
   "cell_type": "code",
   "execution_count": 9,
   "metadata": {
    "colab": {
     "base_uri": "https://localhost:8080/"
    },
    "executionInfo": {
     "elapsed": 330,
     "status": "ok",
     "timestamp": 1718854015465,
     "user": {
      "displayName": "毛利拓也",
      "userId": "17854120745961292401"
     },
     "user_tz": -540
    },
    "id": "8pZ1AkU_k1kg",
    "outputId": "70ae7c22-ff29-4eb2-bc3e-216be8570bf7",
    "vscode": {
     "languageId": "python"
    }
   },
   "outputs": [
    {
     "name": "stdout",
     "output_type": "stream",
     "text": [
      "RMSE test: 5.59\n"
     ]
    }
   ],
   "source": [
    "# テストデータの予測と評価\n",
    "y_test_pred = model.predict(X_test)\n",
    "print('RMSE test: %.2f' % (mean_squared_error(y_test, y_test_pred) ** 0.5))"
   ]
  },
  {
   "cell_type": "code",
   "execution_count": 10,
   "metadata": {
    "colab": {
     "base_uri": "https://localhost:8080/"
    },
    "executionInfo": {
     "elapsed": 2,
     "status": "ok",
     "timestamp": 1718854016884,
     "user": {
      "displayName": "毛利拓也",
      "userId": "17854120745961292401"
     },
     "user_tz": -540
    },
    "id": "vOCc8vYDpNhm",
    "outputId": "a877204e-d864-4678-a92d-6793cfe76851",
    "vscode": {
     "languageId": "python"
    }
   },
   "outputs": [
    {
     "data": {
      "text/plain": [
       "count    102.000000\n",
       "mean      22.219608\n",
       "std        9.068333\n",
       "min        5.600000\n",
       "25%       17.100000\n",
       "50%       20.550000\n",
       "75%       23.875000\n",
       "max       50.000000\n",
       "Name: MEDV, dtype: float64"
      ]
     },
     "execution_count": 10,
     "metadata": {},
     "output_type": "execute_result"
    }
   ],
   "source": [
    "# テストデータの目的関数の統計情報\n",
    "y_test.describe()"
   ]
  },
  {
   "cell_type": "code",
   "execution_count": 11,
   "metadata": {
    "colab": {
     "base_uri": "https://localhost:8080/"
    },
    "executionInfo": {
     "elapsed": 315,
     "status": "ok",
     "timestamp": 1718854023722,
     "user": {
      "displayName": "毛利拓也",
      "userId": "17854120745961292401"
     },
     "user_tz": -540
    },
    "id": "5BUWgEOiDbxk",
    "outputId": "ddfc1b20-2e8d-4497-b880-1427eea0a5cd",
    "vscode": {
     "languageId": "python"
    }
   },
   "outputs": [
    {
     "name": "stdout",
     "output_type": "stream",
     "text": [
      "回帰係数 w = [w1, w2, … , w104]: [-1.73238190e+01  5.57338146e+00 -4.13882888e+01  4.23848940e+00\n",
      "  4.11601424e+00  5.43841210e+00  3.14362235e+01 -2.49746252e+01\n",
      "  1.26131503e+01  8.46984514e+00  8.70501997e+00 -1.02385225e+01\n",
      " -1.00437829e+01  7.49340538e-01  6.03265356e-01  9.30886117e+01\n",
      "  1.03782088e+00 -1.63308876e+00  4.51534131e+00 -3.15456518e+00\n",
      "  1.17984392e-01  1.17567940e+02 -2.51251952e+02  5.39960257e+01\n",
      " -1.11244473e-01  2.58276185e+00 -2.32841294e+00 -5.18666792e-01\n",
      " -3.54721300e-01 -1.65608607e+01  2.81941405e+00  3.35383652e-02\n",
      " -5.81334892e-01 -2.87674801e-01  4.78801041e+00 -5.16168764e+00\n",
      "  1.34093216e+01 -6.33107807e-01  9.44367683e+00  6.90675278e-01\n",
      "  7.27080180e-02  1.60511042e+01  5.19002722e+00  2.56668287e+00\n",
      " -1.27338170e+01  7.29286601e+00 -5.56744148e+00  1.32188945e+01\n",
      " -3.06558318e+00  4.23848940e+00 -5.26449706e+00 -1.01815811e+01\n",
      "  5.65967555e-01  1.81819433e-01  1.96816854e+00 -2.07646183e+00\n",
      " -4.55665998e+00  1.14434016e+01 -1.30255041e+00 -1.45182921e+00\n",
      "  6.98169630e+00 -6.25257336e+00  1.21515798e+01 -1.81608728e+01\n",
      "  3.04969170e+01 -2.86779751e+01  6.47981252e-01  7.33671759e+00\n",
      "  7.05309538e+00 -1.59268177e+01  6.50749596e+00  3.98428547e+00\n",
      " -2.64071393e+01 -7.77346264e+00  3.06038254e+00 -1.28525444e+00\n",
      "  9.65542174e-01  2.92311528e-01  1.51949238e+01 -1.51750302e+01\n",
      " -3.55193730e+00 -7.04776332e+00 -7.36558134e+00  9.18191330e+00\n",
      " -1.96881434e+00 -1.55880744e+00 -6.67188401e+00 -3.07863653e+00\n",
      "  1.85587256e+00 -4.11141967e+01  7.96372551e+01 -1.69035677e+01\n",
      " -4.27235691e+00 -6.55912130e+00 -2.00039537e+01  1.84078732e+01\n",
      " -5.34783633e+00  5.65685823e-01  4.14914464e+00  1.29766980e+01\n",
      "  4.72602398e+00 -3.84393726e-01  2.56424174e-01  5.62300768e+00]\n",
      "定数項 w0: 22.611881188119\n"
     ]
    }
   ],
   "source": [
    "# 正則化無しのパラメータ\n",
    "print('回帰係数 w = [w1, w2, … , w104]:', model.coef_)\n",
    "print('定数項 w0:', model.intercept_)"
   ]
  },
  {
   "cell_type": "code",
   "execution_count": null,
   "metadata": {
    "id": "ElW2gYPf9BHv"
   },
   "outputs": [],
   "source": []
  },
  {
   "cell_type": "markdown",
   "metadata": {
    "id": "MBaLWuf8QAjv"
   },
   "source": [
    "# Lasso回帰（特徴量：ALL）の学習→予測→評価"
   ]
  },
  {
   "cell_type": "code",
   "execution_count": 12,
   "metadata": {
    "colab": {
     "base_uri": "https://localhost:8080/"
    },
    "executionInfo": {
     "elapsed": 4,
     "status": "ok",
     "timestamp": 1716878405031,
     "user": {
      "displayName": "毛利拓也",
      "userId": "17854120745961292401"
     },
     "user_tz": -540
    },
    "id": "--1C3PTQ9WoQ",
    "outputId": "a93a6979-0e3a-4edc-ac33-a66f40cd3ef1"
   },
   "outputs": [
    {
     "data": {
      "text/plain": [
       "{'alpha': 0.1,\n",
       " 'copy_X': True,\n",
       " 'fit_intercept': True,\n",
       " 'max_iter': 1000,\n",
       " 'positive': False,\n",
       " 'precompute': False,\n",
       " 'random_state': None,\n",
       " 'selection': 'cyclic',\n",
       " 'tol': 0.0001,\n",
       " 'warm_start': False}"
      ]
     },
     "execution_count": 12,
     "metadata": {},
     "output_type": "execute_result"
    }
   ],
   "source": [
    "# モデルの学習\n",
    "from sklearn.linear_model import Lasso\n",
    "model2 = Lasso(alpha=0.1)\n",
    "\n",
    "model2.fit(X_train, y_train)\n",
    "model2.get_params()"
   ]
  },
  {
   "cell_type": "code",
   "execution_count": 13,
   "metadata": {
    "colab": {
     "base_uri": "https://localhost:8080/"
    },
    "executionInfo": {
     "elapsed": 4,
     "status": "ok",
     "timestamp": 1716878406262,
     "user": {
      "displayName": "毛利拓也",
      "userId": "17854120745961292401"
     },
     "user_tz": -540
    },
    "id": "1o8lG6Vq_VRQ",
    "outputId": "ab0d8bb7-1c96-4ee2-a9b8-2d675632b5a0"
   },
   "outputs": [
    {
     "name": "stdout",
     "output_type": "stream",
     "text": [
      "回帰係数 w = [w1, w2, … , w104]: [-0.          0.          0.          0.         -0.          0.\n",
      "  0.         -0.          0.          0.         -0.          0.\n",
      " -0.          0.          0.24633868 -0.          0.56721098 -0.26764504\n",
      " -0.71696315 -0.         -0.         -0.         -0.         -0.\n",
      " -0.         -0.          0.48958407 -0.46755873  0.11857147  0.\n",
      "  0.00713714  0.          0.          0.         -0.          0.\n",
      "  0.         -0.07437602  0.06232768 -0.         -0.         -0.\n",
      "  0.         -0.11989191  0.43944794  0.          0.          0.\n",
      " -0.          0.         -0.          0.          0.          0.09828279\n",
      "  0.          0.          0.          0.         -0.         -0.\n",
      " -1.21751701 -0.         -0.98619835  0.         -0.         -0.\n",
      "  0.         -0.          5.87856207 -0.         -0.         -0.\n",
      " -0.         -1.92687309  0.         -5.22072694  0.         -0.\n",
      "  0.          0.          0.          0.         -0.         -0.\n",
      "  0.23376925 -0.66826934 -0.         -0.          0.          0.03382795\n",
      "  0.          0.          0.69836008 -0.          0.          0.\n",
      "  0.         -1.93208069  0.          0.         -0.          0.\n",
      " -0.          2.99074868]\n",
      "定数項 w0: 22.611881188118844\n"
     ]
    }
   ],
   "source": [
    "# 正則化有りのパラメータ\n",
    "print('回帰係数 w = [w1, w2, … , w104]:', model2.coef_)\n",
    "print('定数項 w0:', model2.intercept_)"
   ]
  },
  {
   "cell_type": "code",
   "execution_count": 14,
   "metadata": {
    "colab": {
     "base_uri": "https://localhost:8080/"
    },
    "executionInfo": {
     "elapsed": 368,
     "status": "ok",
     "timestamp": 1716878408822,
     "user": {
      "displayName": "毛利拓也",
      "userId": "17854120745961292401"
     },
     "user_tz": -540
    },
    "id": "Ixh3jusW9WrC",
    "outputId": "8f0f4f80-d13c-482a-e297-20c14f23a6d2"
   },
   "outputs": [
    {
     "name": "stdout",
     "output_type": "stream",
     "text": [
      "RMSE test: 4.89\n"
     ]
    }
   ],
   "source": [
    "# テストデータの予測と評価\n",
    "y_test_pred = model2.predict(X_test)\n",
    "print('RMSE test: %.2f' % (mean_squared_error(y_test, y_test_pred) ** 0.5))"
   ]
  },
  {
   "cell_type": "code",
   "execution_count": null,
   "metadata": {
    "id": "KwnfNfOX9Wt4"
   },
   "outputs": [],
   "source": []
  },
  {
   "cell_type": "markdown",
   "metadata": {
    "id": "ccGNFiYYQHPZ"
   },
   "source": [
    "# Ridge回帰（特徴量：ALL）の学習→予測→評価"
   ]
  },
  {
   "cell_type": "code",
   "execution_count": 15,
   "metadata": {
    "colab": {
     "base_uri": "https://localhost:8080/"
    },
    "executionInfo": {
     "elapsed": 274,
     "status": "ok",
     "timestamp": 1716883779805,
     "user": {
      "displayName": "毛利拓也",
      "userId": "17854120745961292401"
     },
     "user_tz": -540
    },
    "id": "xn3UMEULjbAP",
    "outputId": "69ec3687-76b0-49fb-ff87-9daec9ddf3ae",
    "vscode": {
     "languageId": "python"
    }
   },
   "outputs": [
    {
     "data": {
      "text/plain": [
       "{'alpha': 0.1,\n",
       " 'copy_X': True,\n",
       " 'fit_intercept': True,\n",
       " 'max_iter': None,\n",
       " 'positive': False,\n",
       " 'random_state': None,\n",
       " 'solver': 'auto',\n",
       " 'tol': 0.0001}"
      ]
     },
     "execution_count": 15,
     "metadata": {},
     "output_type": "execute_result"
    }
   ],
   "source": [
    "# モデルの学習\n",
    "from sklearn.linear_model import Ridge\n",
    "model3 = Ridge(alpha=0.1)\n",
    "\n",
    "model3.fit(X_train, y_train)\n",
    "model3.get_params()"
   ]
  },
  {
   "cell_type": "code",
   "execution_count": 16,
   "metadata": {
    "colab": {
     "base_uri": "https://localhost:8080/"
    },
    "executionInfo": {
     "elapsed": 257,
     "status": "ok",
     "timestamp": 1716883784028,
     "user": {
      "displayName": "毛利拓也",
      "userId": "17854120745961292401"
     },
     "user_tz": -540
    },
    "id": "Ke7DjETsPsSI",
    "outputId": "d0702c41-5c25-4070-ed90-90831963499d"
   },
   "outputs": [
    {
     "name": "stdout",
     "output_type": "stream",
     "text": [
      "回帰係数 w = [w1, w2, … , w104]: [ -1.68109343  -1.94538393  -8.94528429   0.98419248   0.21929137\n",
      "   7.37302181  10.95221396  -8.6689005    6.48196995   1.55641279\n",
      "   3.81670682   3.98265108  -1.01830403   0.95154594   0.12541689\n",
      "   5.17044851   1.37021892  -5.34345668   1.98985454  -3.32458645\n",
      "   0.13379436  -0.37083529   0.97420037  -1.31428844  -0.0293938\n",
      "   1.69627587   0.61197575  -0.02156588  -0.23756631  -5.00756689\n",
      "   1.77608527  -0.26877594  -1.58296721   0.27572459   1.9287441\n",
      "   1.22549082   2.94255716  -0.46869993   4.35477181   0.54112959\n",
      "   5.17211013   2.51106484   4.22691405   0.86653326   4.76198536\n",
      "   3.22062788  -4.90122941  -0.88873817  -5.32112529   0.98419248\n",
      "  -4.02402261  -8.00368259   1.18283028   1.2194583    0.23982604\n",
      "  -0.57690603  -1.03417738   9.50700527  -1.54981377  -0.88326248\n",
      "   2.6282334   -1.66160449   3.02847231  -4.36528816  -0.05270825\n",
      "  -6.33167779  -0.26124706   3.79708422   5.68126776  -7.95983824\n",
      "   2.74886088  -2.58834094 -10.40283842  -8.29264512   2.07254194\n",
      "  -2.18917519   0.71694173   1.26605586   7.57706627  -5.31147696\n",
      "  -1.37972702  -3.55080512  -4.41000576   6.98752083  -0.34745045\n",
      "  -0.10963869  -4.2629993   -5.3852827    0.58284718 -10.04588461\n",
      "   9.07419001   2.58812757  -4.00752889  -4.12730121  -2.56805088\n",
      "   9.84643036   1.2651572   -2.22208616   4.07484289   1.91935884\n",
      "   1.67405641  -0.5199803   -1.04913356   5.63296605]\n",
      "定数項 w0: 22.61188118811883\n"
     ]
    }
   ],
   "source": [
    "# 正則化有りのパラメータ\n",
    "print('回帰係数 w = [w1, w2, … , w104]:', model3.coef_)\n",
    "print('定数項 w0:', model3.intercept_)"
   ]
  },
  {
   "cell_type": "code",
   "execution_count": 17,
   "metadata": {
    "colab": {
     "base_uri": "https://localhost:8080/"
    },
    "executionInfo": {
     "elapsed": 250,
     "status": "ok",
     "timestamp": 1716883785659,
     "user": {
      "displayName": "毛利拓也",
      "userId": "17854120745961292401"
     },
     "user_tz": -540
    },
    "id": "m-gBFQ47Pv38",
    "outputId": "95ad6c2a-0f4f-4b02-cbbc-7181731551e5"
   },
   "outputs": [
    {
     "name": "stdout",
     "output_type": "stream",
     "text": [
      "RMSE test: 5.20\n"
     ]
    }
   ],
   "source": [
    "# テストデータの予測と評価\n",
    "y_test_pred = model3.predict(X_test)\n",
    "print('RMSE test: %.2f' % (mean_squared_error(y_test, y_test_pred) ** 0.5))"
   ]
  },
  {
   "cell_type": "code",
   "execution_count": null,
   "metadata": {
    "id": "Simo5au9P4Tk"
   },
   "outputs": [],
   "source": []
  }
 ],
 "metadata": {
  "colab": {
   "provenance": []
  },
  "kernelspec": {
   "display_name": "Python 3 (ipykernel)",
   "language": "python",
   "name": "python3"
  },
  "language_info": {
   "codemirror_mode": {
    "name": "ipython",
    "version": 3
   },
   "file_extension": ".py",
   "mimetype": "text/x-python",
   "name": "python",
   "nbconvert_exporter": "python",
   "pygments_lexer": "ipython3",
   "version": "3.10.12"
  }
 },
 "nbformat": 4,
 "nbformat_minor": 4
}
