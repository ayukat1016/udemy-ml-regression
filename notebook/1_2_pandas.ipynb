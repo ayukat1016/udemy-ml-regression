{
 "cells": [
  {
   "cell_type": "markdown",
   "metadata": {
    "id": "R4UfX8EW9Vx5"
   },
   "source": [
    "## ライブラリのインポート"
   ]
  },
  {
   "cell_type": "code",
   "execution_count": null,
   "metadata": {
    "executionInfo": {
     "elapsed": 684,
     "status": "ok",
     "timestamp": 1718416709721,
     "user": {
      "displayName": "毛利拓也",
      "userId": "17854120745961292401"
     },
     "user_tz": -540
    },
    "id": "TeQRCvTFoMNu"
   },
   "outputs": [],
   "source": [
    "import pandas as pd"
   ]
  },
  {
   "cell_type": "markdown",
   "metadata": {
    "id": "AyvVQcWenWFN"
   },
   "source": [
    "## DataFrameの作成"
   ]
  },
  {
   "cell_type": "code",
   "execution_count": null,
   "metadata": {
    "colab": {
     "base_uri": "https://localhost:8080/",
     "height": 143
    },
    "executionInfo": {
     "elapsed": 297,
     "status": "ok",
     "timestamp": 1718417528076,
     "user": {
      "displayName": "毛利拓也",
      "userId": "17854120745961292401"
     },
     "user_tz": -540
    },
    "id": "UNuaCCOypDA6",
    "outputId": "1a0d9c4a-ac92-4c11-eb6e-85875bd25f70"
   },
   "outputs": [],
   "source": [
    "# list型から作成\n",
    "data_list = [\n",
    "    [0, 1, 2, 3],\n",
    "    [4, 5, 6, 7],\n",
    "    [8, 9, 10, 11]\n",
    "]\n",
    "\n",
    "df = pd.DataFrame(\n",
    "    data_list,\n",
    "    columns=['A', 'B', 'C', 'D'],\n",
    "    index=['a', 'b', 'c']\n",
    ")\n",
    "\n",
    "df"
   ]
  },
  {
   "cell_type": "code",
   "execution_count": null,
   "metadata": {},
   "outputs": [],
   "source": [
    "type(data_list)"
   ]
  },
  {
   "cell_type": "code",
   "execution_count": null,
   "metadata": {
    "colab": {
     "base_uri": "https://localhost:8080/",
     "height": 203
    },
    "executionInfo": {
     "elapsed": 1288,
     "status": "ok",
     "timestamp": 1718431672117,
     "user": {
      "displayName": "毛利拓也",
      "userId": "17854120745961292401"
     },
     "user_tz": -540
    },
    "id": "odsPTOTWglDQ",
    "outputId": "293460a4-42ca-4722-a2d4-4df3f9cc0793"
   },
   "outputs": [],
   "source": [
    "type(df)"
   ]
  },
  {
   "cell_type": "code",
   "execution_count": null,
   "metadata": {
    "colab": {
     "base_uri": "https://localhost:8080/"
    },
    "executionInfo": {
     "elapsed": 4,
     "status": "ok",
     "timestamp": 1718417529116,
     "user": {
      "displayName": "毛利拓也",
      "userId": "17854120745961292401"
     },
     "user_tz": -540
    },
    "id": "IEQwDe5KosB5",
    "outputId": "3ca90f89-49a3-47e8-c9bb-8167fb7f820d"
   },
   "outputs": [],
   "source": [
    "df.index"
   ]
  },
  {
   "cell_type": "code",
   "execution_count": null,
   "metadata": {
    "colab": {
     "base_uri": "https://localhost:8080/"
    },
    "executionInfo": {
     "elapsed": 3,
     "status": "ok",
     "timestamp": 1718417529503,
     "user": {
      "displayName": "毛利拓也",
      "userId": "17854120745961292401"
     },
     "user_tz": -540
    },
    "id": "yMPxmZqBvLoH",
    "outputId": "be96f01f-8f7f-418f-892e-44ab047f1c2d"
   },
   "outputs": [],
   "source": [
    "df.columns"
   ]
  },
  {
   "cell_type": "code",
   "execution_count": null,
   "metadata": {
    "colab": {
     "base_uri": "https://localhost:8080/"
    },
    "executionInfo": {
     "elapsed": 2,
     "status": "ok",
     "timestamp": 1718417530393,
     "user": {
      "displayName": "毛利拓也",
      "userId": "17854120745961292401"
     },
     "user_tz": -540
    },
    "id": "5dnA8T1ivPVJ",
    "outputId": "bf2f3cee-c82b-42c0-e6a7-87dedfb0bcef"
   },
   "outputs": [],
   "source": [
    "df.shape"
   ]
  },
  {
   "cell_type": "code",
   "execution_count": null,
   "metadata": {
    "colab": {
     "base_uri": "https://localhost:8080/",
     "height": 143
    },
    "executionInfo": {
     "elapsed": 7,
     "status": "ok",
     "timestamp": 1718417531501,
     "user": {
      "displayName": "毛利拓也",
      "userId": "17854120745961292401"
     },
     "user_tz": -540
    },
    "id": "otNxr6OipYhI",
    "outputId": "a2151788-8fc6-4118-f5a3-1b70440106af"
   },
   "outputs": [],
   "source": [
    "# dictionary型から作成\n",
    "data_dict={\n",
    "    'A': [0, 4, 8],\n",
    "    'B': [1, 5, 9],\n",
    "    'C': [2, 6, 10],\n",
    "    'D': [3, 7, 11]\n",
    "}\n",
    "\n",
    "df = pd.DataFrame(\n",
    "    data_dict,\n",
    "    index=['a', 'b', 'c']\n",
    ")\n",
    "\n",
    "df"
   ]
  },
  {
   "cell_type": "code",
   "execution_count": null,
   "metadata": {
    "id": "U5MTKzv0p0BZ"
   },
   "outputs": [],
   "source": []
  },
  {
   "cell_type": "markdown",
   "metadata": {
    "id": "pnYlcpVcqxXF"
   },
   "source": [
    "## 行名と列名での絞り込み"
   ]
  },
  {
   "cell_type": "code",
   "execution_count": null,
   "metadata": {
    "colab": {
     "base_uri": "https://localhost:8080/",
     "height": 143
    },
    "executionInfo": {
     "elapsed": 268,
     "status": "ok",
     "timestamp": 1718417579248,
     "user": {
      "displayName": "毛利拓也",
      "userId": "17854120745961292401"
     },
     "user_tz": -540
    },
    "id": "YzmlVvgdpm8e",
    "outputId": "a26548f9-cd04-49dc-8383-bae16d55a911"
   },
   "outputs": [],
   "source": [
    "df"
   ]
  },
  {
   "cell_type": "code",
   "execution_count": null,
   "metadata": {
    "colab": {
     "base_uri": "https://localhost:8080/"
    },
    "executionInfo": {
     "elapsed": 4,
     "status": "ok",
     "timestamp": 1718417580362,
     "user": {
      "displayName": "毛利拓也",
      "userId": "17854120745961292401"
     },
     "user_tz": -540
    },
    "id": "9CBODebj-TlX",
    "outputId": "30c24f5f-de58-45b9-8195-fbbc38077d3a"
   },
   "outputs": [],
   "source": [
    "# 値\n",
    "df.loc['b', 'C'] # df.loc['b']['C']でも可能"
   ]
  },
  {
   "cell_type": "code",
   "execution_count": null,
   "metadata": {
    "colab": {
     "base_uri": "https://localhost:8080/"
    },
    "executionInfo": {
     "elapsed": 4,
     "status": "ok",
     "timestamp": 1718417581438,
     "user": {
      "displayName": "毛利拓也",
      "userId": "17854120745961292401"
     },
     "user_tz": -540
    },
    "id": "3QISuBYUtGCf",
    "outputId": "db41213b-4019-4c64-bad8-0a0331b92eec"
   },
   "outputs": [],
   "source": [
    "# Series\n",
    "df.loc['b']"
   ]
  },
  {
   "cell_type": "code",
   "execution_count": null,
   "metadata": {},
   "outputs": [],
   "source": [
    "# DataFrame\n",
    "df.loc[['b']]"
   ]
  },
  {
   "cell_type": "code",
   "execution_count": null,
   "metadata": {
    "colab": {
     "base_uri": "https://localhost:8080/",
     "height": 112
    },
    "executionInfo": {
     "elapsed": 520,
     "status": "ok",
     "timestamp": 1718417620294,
     "user": {
      "displayName": "毛利拓也",
      "userId": "17854120745961292401"
     },
     "user_tz": -540
    },
    "id": "h76b55PA3s7v",
    "outputId": "bcf7561d-d2d1-4fa0-a852-4889e4b331b8"
   },
   "outputs": [],
   "source": [
    "# DataFrame\n",
    "df.loc[['a', 'b']]"
   ]
  },
  {
   "cell_type": "code",
   "execution_count": null,
   "metadata": {
    "colab": {
     "base_uri": "https://localhost:8080/"
    },
    "executionInfo": {
     "elapsed": 272,
     "status": "ok",
     "timestamp": 1718417583539,
     "user": {
      "displayName": "毛利拓也",
      "userId": "17854120745961292401"
     },
     "user_tz": -540
    },
    "id": "8BKFwSwKtUbb",
    "outputId": "2d9a536e-7d59-42bd-f932-7a2e60ce8428"
   },
   "outputs": [],
   "source": [
    "# Series\n",
    "df['C']"
   ]
  },
  {
   "cell_type": "code",
   "execution_count": null,
   "metadata": {},
   "outputs": [],
   "source": [
    "# DataFrame\n",
    "df[['C']]"
   ]
  },
  {
   "cell_type": "code",
   "execution_count": null,
   "metadata": {
    "colab": {
     "base_uri": "https://localhost:8080/",
     "height": 143
    },
    "executionInfo": {
     "elapsed": 291,
     "status": "ok",
     "timestamp": 1718417627125,
     "user": {
      "displayName": "毛利拓也",
      "userId": "17854120745961292401"
     },
     "user_tz": -540
    },
    "id": "5z4rtRuPtN6z",
    "outputId": "d4163b8a-28c8-49d7-89b6-25c07a352f1c"
   },
   "outputs": [],
   "source": [
    "# DataFrame\n",
    "df[['B', 'C']]"
   ]
  },
  {
   "cell_type": "code",
   "execution_count": null,
   "metadata": {
    "colab": {
     "base_uri": "https://localhost:8080/",
     "height": 112
    },
    "executionInfo": {
     "elapsed": 341,
     "status": "ok",
     "timestamp": 1718417638390,
     "user": {
      "displayName": "毛利拓也",
      "userId": "17854120745961292401"
     },
     "user_tz": -540
    },
    "id": "1NLE6doBt7u0",
    "outputId": "2c8be2e9-f392-4a77-b67d-906ee4d60012"
   },
   "outputs": [],
   "source": [
    "# DataFrame\n",
    "df.loc[['a', 'b'], ['B', 'C']] # df.loc[['a', 'b']][['B', 'C']]でも可能"
   ]
  },
  {
   "cell_type": "markdown",
   "metadata": {
    "id": "mZXcuOIOptnU"
   },
   "source": [
    "## 値で行の絞り込み"
   ]
  },
  {
   "cell_type": "code",
   "execution_count": null,
   "metadata": {
    "colab": {
     "base_uri": "https://localhost:8080/"
    },
    "executionInfo": {
     "elapsed": 261,
     "status": "ok",
     "timestamp": 1718418111032,
     "user": {
      "displayName": "毛利拓也",
      "userId": "17854120745961292401"
     },
     "user_tz": -540
    },
    "id": "izPrkxuguqAV",
    "outputId": "fe32198d-8945-4677-a933-13fb4f10f377"
   },
   "outputs": [],
   "source": [
    "# Seriesでフィルター\n",
    "df['C']>5"
   ]
  },
  {
   "cell_type": "code",
   "execution_count": null,
   "metadata": {
    "colab": {
     "base_uri": "https://localhost:8080/",
     "height": 112
    },
    "executionInfo": {
     "elapsed": 5,
     "status": "ok",
     "timestamp": 1718418112107,
     "user": {
      "displayName": "毛利拓也",
      "userId": "17854120745961292401"
     },
     "user_tz": -540
    },
    "id": "mggobJjfwVgl",
    "outputId": "4d55b139-6207-444a-ce97-b66eef2aa84c"
   },
   "outputs": [],
   "source": [
    "# フィルターで条件絞り込み\n",
    "df[df['C']>5]"
   ]
  },
  {
   "cell_type": "markdown",
   "metadata": {
    "id": "6zDAmppNxboI"
   },
   "source": [
    "## 行番号と列番号での絞り込み"
   ]
  },
  {
   "cell_type": "code",
   "execution_count": null,
   "metadata": {
    "colab": {
     "base_uri": "https://localhost:8080/",
     "height": 143
    },
    "executionInfo": {
     "elapsed": 282,
     "status": "ok",
     "timestamp": 1718418325803,
     "user": {
      "displayName": "毛利拓也",
      "userId": "17854120745961292401"
     },
     "user_tz": -540
    },
    "id": "enO_-reStqy2",
    "outputId": "b0d3e3eb-ce94-4281-f9e1-c5d1ac4dcfa2"
   },
   "outputs": [],
   "source": [
    "df"
   ]
  },
  {
   "cell_type": "code",
   "execution_count": null,
   "metadata": {
    "colab": {
     "base_uri": "https://localhost:8080/"
    },
    "executionInfo": {
     "elapsed": 279,
     "status": "ok",
     "timestamp": 1718418414147,
     "user": {
      "displayName": "毛利拓也",
      "userId": "17854120745961292401"
     },
     "user_tz": -540
    },
    "id": "Bj7vhZjJt7s_",
    "outputId": "e0734680-bd50-4b59-eb93-43895386d4aa"
   },
   "outputs": [],
   "source": [
    "# 値\n",
    "df.iloc[1, 2]"
   ]
  },
  {
   "cell_type": "code",
   "execution_count": null,
   "metadata": {
    "colab": {
     "base_uri": "https://localhost:8080/"
    },
    "executionInfo": {
     "elapsed": 270,
     "status": "ok",
     "timestamp": 1718418520017,
     "user": {
      "displayName": "毛利拓也",
      "userId": "17854120745961292401"
     },
     "user_tz": -540
    },
    "id": "Wv_KKv1XuHaf",
    "outputId": "0a4fee68-cd0d-4302-d8d1-3ff03cb57a57"
   },
   "outputs": [],
   "source": [
    "# Series\n",
    "df.iloc[1]"
   ]
  },
  {
   "cell_type": "code",
   "execution_count": null,
   "metadata": {},
   "outputs": [],
   "source": [
    "# Series\n",
    "df.iloc[:, 2]"
   ]
  },
  {
   "cell_type": "code",
   "execution_count": null,
   "metadata": {
    "colab": {
     "base_uri": "https://localhost:8080/",
     "height": 112
    },
    "executionInfo": {
     "elapsed": 301,
     "status": "ok",
     "timestamp": 1718419094871,
     "user": {
      "displayName": "毛利拓也",
      "userId": "17854120745961292401"
     },
     "user_tz": -540
    },
    "id": "0PYLh4GQtswK",
    "outputId": "0c99fc54-5007-40b6-eb58-3d31709419f3"
   },
   "outputs": [],
   "source": [
    "# DataFrame\n",
    "df.iloc[[0, 1], [1, 2]]"
   ]
  },
  {
   "cell_type": "code",
   "execution_count": null,
   "metadata": {
    "id": "1qTvgwI5w6f_"
   },
   "outputs": [],
   "source": []
  }
 ],
 "metadata": {
  "colab": {
   "authorship_tag": "ABX9TyNG2RS5IENgvjQBI/NZTSdS",
   "provenance": []
  },
  "kernelspec": {
   "display_name": "Python 3 (ipykernel)",
   "language": "python",
   "name": "python3"
  },
  "language_info": {
   "codemirror_mode": {
    "name": "ipython",
    "version": 3
   },
   "file_extension": ".py",
   "mimetype": "text/x-python",
   "name": "python",
   "nbconvert_exporter": "python",
   "pygments_lexer": "ipython3",
   "version": "3.10.12"
  }
 },
 "nbformat": 4,
 "nbformat_minor": 4
}
